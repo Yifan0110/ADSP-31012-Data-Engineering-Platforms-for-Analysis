{
 "cells": [
  {
   "cell_type": "code",
   "execution_count": 1,
   "id": "4c9d52f4",
   "metadata": {},
   "outputs": [],
   "source": [
    "#import libraries\n",
    "import pymongo\n",
    "from pymongo import MongoClient\n",
    "from pprint import pprint"
   ]
  },
  {
   "cell_type": "markdown",
   "id": "c769ee90",
   "metadata": {},
   "source": [
    "### Connect to MongoDB\n"
   ]
  },
  {
   "cell_type": "code",
   "execution_count": 2,
   "id": "10711603",
   "metadata": {},
   "outputs": [],
   "source": [
    "#connect to local database server\n",
    "client = pymongo.MongoClient(\"localhost:27017\")\n",
    "db = client.assignment8"
   ]
  },
  {
   "cell_type": "code",
   "execution_count": 3,
   "id": "09cf8259",
   "metadata": {},
   "outputs": [],
   "source": [
    "customers = db.customers\n",
    "films = db.films\n",
    "stores = db.stores"
   ]
  },
  {
   "cell_type": "markdown",
   "id": "d6e82957",
   "metadata": {},
   "source": [
    "### 1. Return the total number of customers living in California\n"
   ]
  },
  {
   "cell_type": "code",
   "execution_count": 4,
   "id": "898016ea",
   "metadata": {},
   "outputs": [
    {
     "name": "stdout",
     "output_type": "stream",
     "text": [
      "The total number of customers living in California: 9\n"
     ]
    }
   ],
   "source": [
    "california_customers_count = customers.count_documents({\n",
    "    'Country': 'United States',  \n",
    "    'District': 'California'}\n",
    ")\n",
    "\n",
    "print(f\"The total number of customers living in California: {california_customers_count}\")"
   ]
  },
  {
   "cell_type": "markdown",
   "id": "391b318c",
   "metadata": {},
   "source": [
    "### 2. List all movies that are rated NC-17. Return the title and the rating, sorted alphabetically by title.\n"
   ]
  },
  {
   "cell_type": "code",
   "execution_count": 5,
   "id": "2607bd61",
   "metadata": {},
   "outputs": [
    {
     "name": "stdout",
     "output_type": "stream",
     "text": [
      "Title: ADAPTATION HOLES  Rating: NC-17\n",
      "Title: ALADDIN CALENDAR  Rating: NC-17\n",
      "Title: ALICE FANTASIA  Rating: NC-17\n",
      "Title: ALIEN CENTER  Rating: NC-17\n",
      "Title: ALLEY EVOLUTION  Rating: NC-17\n",
      "Title: ANONYMOUS HUMAN  Rating: NC-17\n",
      "Title: ANTITRUST TOMATOES  Rating: NC-17\n",
      "Title: APACHE DIVINE  Rating: NC-17\n",
      "Title: ARABIA DOGMA  Rating: NC-17\n",
      "Title: ARK RIDGEMONT  Rating: NC-17\n",
      "Title: ARTIST COLDBLOODED  Rating: NC-17\n",
      "Title: BABY HALL  Rating: NC-17\n",
      "Title: BALLOON HOMEWARD  Rating: NC-17\n",
      "Title: BANG KWAI  Rating: NC-17\n",
      "Title: BED HIGHBALL  Rating: NC-17\n",
      "Title: BENEATH RUSH  Rating: NC-17\n",
      "Title: BETRAYED REAR  Rating: NC-17\n",
      "Title: BIKINI BORROWERS  Rating: NC-17\n",
      "Title: BIRDCAGE CASPER  Rating: NC-17\n",
      "Title: BOONDOCK BALLROOM  Rating: NC-17\n"
     ]
    }
   ],
   "source": [
    "nc_17 = films.find(\n",
    "    {'Rating': 'NC-17'},  \n",
    "    {'Title': 1,\n",
    "     'Rating': 1,\n",
    "     '_id': 0}  \n",
    ").sort('Title', 1).limit(20)\n",
    "\n",
    "for film in nc_17:\n",
    "    print(f\"Title: {film['Title']}  Rating: {film['Rating']}\")"
   ]
  },
  {
   "cell_type": "markdown",
   "id": "52d41248",
   "metadata": {},
   "source": [
    "### 3. List the movie titles and the count of actors in each movie, sorted alphabetically by title.\n"
   ]
  },
  {
   "cell_type": "code",
   "execution_count": 6,
   "id": "04f55349",
   "metadata": {},
   "outputs": [
    {
     "name": "stdout",
     "output_type": "stream",
     "text": [
      "Title: ACADEMY DINOSAUR  Actor Count: 10\n",
      "Title: ACE GOLDFINGER  Actor Count: 4\n",
      "Title: ADAPTATION HOLES  Actor Count: 5\n",
      "Title: AFFAIR PREJUDICE  Actor Count: 5\n",
      "Title: AFRICAN EGG  Actor Count: 5\n",
      "Title: AGENT TRUMAN  Actor Count: 7\n",
      "Title: AIRPLANE SIERRA  Actor Count: 5\n",
      "Title: AIRPORT POLLOCK  Actor Count: 4\n",
      "Title: ALABAMA DEVIL  Actor Count: 9\n",
      "Title: ALADDIN CALENDAR  Actor Count: 8\n",
      "Title: ALAMO VIDEOTAPE  Actor Count: 4\n",
      "Title: ALASKA PHANTOM  Actor Count: 7\n",
      "Title: ALI FOREVER  Actor Count: 5\n",
      "Title: ALICE FANTASIA  Actor Count: 4\n",
      "Title: ALIEN CENTER  Actor Count: 6\n",
      "Title: ALLEY EVOLUTION  Actor Count: 5\n",
      "Title: ALONE TRIP  Actor Count: 8\n",
      "Title: ALTER VICTORY  Actor Count: 4\n",
      "Title: AMADEUS HOLY  Actor Count: 6\n",
      "Title: AMELIE HELLFIGHTERS  Actor Count: 6\n"
     ]
    }
   ],
   "source": [
    "result = films.aggregate([\n",
    "    {\"$project\": {\n",
    "        \"Title\": 1,\n",
    "        \"Actors\": 1,\n",
    "        \"_id\": 0\n",
    "    }},\n",
    "    {\"$sort\": {\"Title\": pymongo.ASCENDING}},\n",
    "    {\"$limit\": 20} \n",
    "])\n",
    "\n",
    "for film in result:\n",
    "    print(f\"Title: {film['Title']}  Actor Count: {len(film['Actors'])}\")"
   ]
  },
  {
   "cell_type": "markdown",
   "id": "1e35031b",
   "metadata": {},
   "source": [
    "### 4. List the count of movies by category. Return the category and the count, sorted by the count per category descending.\n"
   ]
  },
  {
   "cell_type": "code",
   "execution_count": 7,
   "id": "548fe2ea",
   "metadata": {},
   "outputs": [
    {
     "name": "stdout",
     "output_type": "stream",
     "text": [
      "Category: Sports  Count: 74\n",
      "Category: Foreign  Count: 73\n",
      "Category: Family  Count: 69\n",
      "Category: Documentary  Count: 68\n",
      "Category: Animation  Count: 66\n",
      "Category: Action  Count: 64\n",
      "Category: New  Count: 63\n",
      "Category: Drama  Count: 62\n",
      "Category: Sci-Fi  Count: 61\n",
      "Category: Games  Count: 61\n",
      "Category: Children  Count: 60\n",
      "Category: Comedy  Count: 58\n",
      "Category: Travel  Count: 57\n",
      "Category: Classics  Count: 57\n",
      "Category: Horror  Count: 56\n",
      "Category: Music  Count: 51\n"
     ]
    }
   ],
   "source": [
    "result = films.aggregate([\n",
    "    {\"$group\": {\n",
    "        \"_id\": \"$Category\",\n",
    "        \"count\": {\"$sum\": 1}\n",
    "    }},\n",
    "    {\"$sort\": {\"count\": -1}}\n",
    "])\n",
    "\n",
    "for film in result:\n",
    "    print(f\"Category: {film['_id']}  Count: {film['count']}\")"
   ]
  },
  {
   "cell_type": "markdown",
   "id": "692b29b5",
   "metadata": {},
   "source": [
    "### 5. List the top 2 movies with movie length greater than 25mins or which has commentaries as special features. Return the movie title, length, and special features.\n"
   ]
  },
  {
   "cell_type": "code",
   "execution_count": 8,
   "id": "83ca47dd",
   "metadata": {},
   "outputs": [
    {
     "name": "stdout",
     "output_type": "stream",
     "text": [
      "Title: BABY HALL  Length: 153 mins  Special Features: Commentaries\n",
      "Title: BROOKLYN DESERT  Length: 161 mins  Special Features: Commentaries\n"
     ]
    }
   ],
   "source": [
    "result = films.aggregate([\n",
    "    {\"$match\": {\"$or\": [{\"Length\": {\"$gt\": 25}}, {\"Special Features\": {\"$in\": [\"Commentaries\"]}}]}},\n",
    "    {\"$project\": {\"Title\": 1, \"Length\": 1, \"Special Features\": 1, \"_id\": 0}},\n",
    "    {\"$limit\": 2}\n",
    "])\n",
    "\n",
    "for film in result:\n",
    "    print(f\"Title: {film['Title']}  Length: {film['Length']} mins  Special Features: {film['Special Features']}\")\n"
   ]
  },
  {
   "cell_type": "markdown",
   "id": "71fc5e77",
   "metadata": {},
   "source": [
    "### 6. List top 10 countries with the most number of customers.\n"
   ]
  },
  {
   "cell_type": "code",
   "execution_count": 9,
   "id": "0398eca1",
   "metadata": {},
   "outputs": [
    {
     "name": "stdout",
     "output_type": "stream",
     "text": [
      "Country: India  Count: 60\n",
      "Country: China  Count: 53\n",
      "Country: United States  Count: 36\n",
      "Country: Japan  Count: 31\n",
      "Country: Mexico  Count: 30\n",
      "Country: Brazil  Count: 28\n",
      "Country: Russian Federation  Count: 28\n",
      "Country: Philippines  Count: 20\n",
      "Country: Turkey  Count: 15\n",
      "Country: Indonesia  Count: 14\n"
     ]
    }
   ],
   "source": [
    "result = customers.aggregate([\n",
    "    {\"$group\": {\n",
    "        \"_id\": \"$Country\",\n",
    "        \"count\": {\"$sum\": 1}\n",
    "    }},\n",
    "    {\"$sort\": {\"count\": -1}},\n",
    "    {\"$limit\": 10}\n",
    "])\n",
    "\n",
    "for customer in result:\n",
    "    print(f\"Country: {customer['_id']}  Count: {customer['count']}\")"
   ]
  },
  {
   "cell_type": "markdown",
   "id": "58e074e0",
   "metadata": {},
   "source": [
    "### 7. List all replacement costs along with count for each replacement cost.\n"
   ]
  },
  {
   "cell_type": "code",
   "execution_count": 10,
   "id": "f6167bf0",
   "metadata": {},
   "outputs": [
    {
     "name": "stdout",
     "output_type": "stream",
     "text": [
      "Replacement Cost: 20.99  Count: 57\n",
      "Replacement Cost: 17.99  Count: 47\n",
      "Replacement Cost: 21.99  Count: 55\n",
      "Replacement Cost: 19.99  Count: 50\n",
      "Replacement Cost: 28.99  Count: 41\n",
      "Replacement Cost: 9.99  Count: 41\n",
      "Replacement Cost: 13.99  Count: 55\n",
      "Replacement Cost: 10.99  Count: 49\n",
      "Replacement Cost: 24.99  Count: 38\n",
      "Replacement Cost: 11.99  Count: 49\n",
      "Replacement Cost: 27.99  Count: 53\n",
      "Replacement Cost: 29.99  Count: 53\n",
      "Replacement Cost: 14.99  Count: 51\n",
      "Replacement Cost: 16.99  Count: 38\n",
      "Replacement Cost: 18.99  Count: 42\n",
      "Replacement Cost: 12.99  Count: 55\n",
      "Replacement Cost: 25.99  Count: 43\n",
      "Replacement Cost: 22.99  Count: 55\n",
      "Replacement Cost: 23.99  Count: 45\n",
      "Replacement Cost: 15.99  Count: 37\n",
      "Replacement Cost: 26.99  Count: 46\n"
     ]
    }
   ],
   "source": [
    "result = films.aggregate([\n",
    "    {\"$group\": {\n",
    "        \"_id\": \"$Replacement Cost\",\n",
    "        \"count\": {\"$sum\": 1}\n",
    "    }}\n",
    "])\n",
    "\n",
    "for film in result:\n",
    "    print(f\"Replacement Cost: {film['_id']}  Count: {film['count']}\")"
   ]
  },
  {
   "cell_type": "markdown",
   "id": "8072b62f",
   "metadata": {},
   "source": [
    "### 8. List all films relating to Mexico promotional specials (hint:description).\n"
   ]
  },
  {
   "cell_type": "code",
   "execution_count": 11,
   "id": "60f18ae7",
   "metadata": {},
   "outputs": [
    {
     "name": "stdout",
     "output_type": "stream",
     "text": [
      "Title: AFRICAN EGG \n",
      "Title: BEETHOVEN EXORCIST \n",
      "Title: BOOGIE AMELIE \n",
      "Title: BOONDOCK BALLROOM \n",
      "Title: COLDBLOODED DARLING \n",
      "Title: COMANCHEROS ENEMY \n",
      "Title: DADDY PITTSBURGH \n",
      "Title: DARLING BREAKING \n",
      "Title: DOORS PRESIDENT \n",
      "Title: DOUBLE WRATH \n",
      "Title: DREAM PICKUP \n",
      "Title: DUMBO LUST \n",
      "Title: FERRIS MOTHER \n",
      "Title: FEVER EMPIRE \n",
      "Title: FIDDLER LOST \n",
      "Title: FLASH WARS \n",
      "Title: FREAKY POCUS \n",
      "Title: GASLIGHT CRUSADE \n",
      "Title: GUN BONNIE \n",
      "Title: HEAD STRANGER \n"
     ]
    }
   ],
   "source": [
    "result = films.aggregate([\n",
    "    {\"$match\": {\n",
    "        \"Description\": {\"$regex\": \"Mexico\", \"$options\": \"i\"}\n",
    "    }},\n",
    "    {\"$project\": {\"Title\": 1, \"Description\": 1, \"_id\": 0}},\n",
    "    {\"$limit\": 20}\n",
    "])\n",
    "\n",
    "\n",
    "for film in result:\n",
    "    print(f\"Title: {film['Title']} \")"
   ]
  },
  {
   "cell_type": "markdown",
   "id": "6d74be70",
   "metadata": {},
   "source": [
    "### 10. Calculate revenue for the Month of August 2005.\n"
   ]
  },
  {
   "cell_type": "code",
   "execution_count": 12,
   "id": "87445c1c",
   "metadata": {},
   "outputs": [
    {
     "name": "stdout",
     "output_type": "stream",
     "text": [
      "Title: 24070.139395952225 \n"
     ]
    }
   ],
   "source": [
    "from datetime import datetime\n",
    "result = customers.aggregate([\n",
    "    {\n",
    "        \"$unwind\": \"$Rentals\"  \n",
    "    },\n",
    "    {\n",
    "        \"$unwind\": \"$Rentals.Payments\"  \n",
    "    },\n",
    "    {\n",
    "        \"$match\": {\n",
    "            \"Rentals.Payments.Payment Date\": {\n",
    "                \"$gte\": datetime(2005, 8, 1).strftime(\"%Y-%m-%d %H:%M:%S.0\"),\n",
    "                \"$lt\": datetime(2005, 9, 1).strftime(\"%Y-%m-%d %H:%M:%S.0\")\n",
    "            }\n",
    "        }\n",
    "    },\n",
    "    {\n",
    "        \"$group\": {\n",
    "            \"_id\": None,\n",
    "            \"total_revenue\": {\n",
    "                \"$sum\": \"$Rentals.Payments.Amount\"  \n",
    "            }\n",
    "        }\n",
    "    }\n",
    "])\n",
    "\n",
    "\n",
    "for customer in result:\n",
    "    print(f\"Title: {customer['total_revenue']} \")"
   ]
  },
  {
   "cell_type": "markdown",
   "id": "13d4f00c",
   "metadata": {},
   "source": [
    "### 11. Find movies with the highest number of Actors.\n"
   ]
  },
  {
   "cell_type": "code",
   "execution_count": 13,
   "id": "0d637170",
   "metadata": {},
   "outputs": [
    {
     "name": "stdout",
     "output_type": "stream",
     "text": [
      "Title: LAMBS CINCINATTI  Count: 15\n"
     ]
    }
   ],
   "source": [
    "result = films.aggregate([\n",
    "    {\"$project\": {\"Title\": 1, \"Actors\": 1, \"_id\": 0}},\n",
    "    {\"$addFields\": {\"count\": {\"$size\": \"$Actors\"}}},\n",
    "    {\"$sort\": {\"count\": -1}},\n",
    "    {\"$limit\": 1}\n",
    "])\n",
    "\n",
    "for film in result:\n",
    "    print(f\"Title: {film['Title']}  Count: {film['count']}\")"
   ]
  },
  {
   "cell_type": "markdown",
   "id": "ca1a39c7",
   "metadata": {},
   "source": [
    "### 12. List top Movie rating that is rented the most / popular among the customers.\n"
   ]
  },
  {
   "cell_type": "code",
   "execution_count": 14,
   "id": "627a2f88",
   "metadata": {},
   "outputs": [
    {
     "name": "stdout",
     "output_type": "stream",
     "text": [
      "Title: PG-13  Count: 223\n"
     ]
    }
   ],
   "source": [
    "result = films.aggregate([\n",
    "    {\n",
    "        \"$group\": {\n",
    "            \"_id\": \"$Rating\",  \n",
    "            \"count\": {\"$sum\": 1}  \n",
    "        }\n",
    "    },\n",
    "    {\n",
    "        \"$sort\": {\"count\": -1}  \n",
    "    },\n",
    "    {\"$limit\": 1}\n",
    "])\n",
    "\n",
    "for film in result:\n",
    "    print(f\"Title: {film['_id']}  Count: {film['count']}\")"
   ]
  },
  {
   "cell_type": "markdown",
   "id": "eecfe982",
   "metadata": {},
   "source": [
    "### 13. List number of actors who worked in each category of films.\n"
   ]
  },
  {
   "cell_type": "code",
   "execution_count": 15,
   "id": "b43ffd70",
   "metadata": {},
   "outputs": [
    {
     "name": "stdout",
     "output_type": "stream",
     "text": [
      "Category: Sports  Number of actors: 182\n",
      "Category: Foreign  Number of actors: 175\n",
      "Category: New  Number of actors: 169\n",
      "Category: Documentary  Number of actors: 168\n",
      "Category: Sci-Fi  Number of actors: 167\n",
      "Category: Travel  Number of actors: 166\n",
      "Category: Action  Number of actors: 166\n",
      "Category: Animation  Number of actors: 166\n",
      "Category: Family  Number of actors: 164\n",
      "Category: Children  Number of actors: 163\n",
      "Category: Drama  Number of actors: 162\n",
      "Category: Classics  Number of actors: 162\n",
      "Category: Horror  Number of actors: 156\n",
      "Category: Games  Number of actors: 150\n",
      "Category: Comedy  Number of actors: 147\n",
      "Category: Music  Number of actors: 144\n"
     ]
    }
   ],
   "source": [
    "result = films.aggregate([\n",
    "    {\n",
    "        \"$unwind\": \"$Actors\" \n",
    "    },\n",
    "    {\n",
    "        \"$group\": {\n",
    "            \"_id\": {\n",
    "                \"Category\": \"$Category\",\n",
    "                \"ActorID\": \"$Actors.actorId\"  \n",
    "            }\n",
    "        }\n",
    "    },\n",
    "    {\n",
    "        \"$group\": {\n",
    "            \"_id\": \"$_id.Category\",\n",
    "            \"count\": {\"$sum\": 1} \n",
    "        }\n",
    "    },\n",
    "    {\n",
    "        \"$sort\": {\"count\": -1} \n",
    "    }\n",
    "])\n",
    "\n",
    "for film in result:\n",
    "    print(f\"Category: {film['_id']}  Number of actors: {film['count']}\")"
   ]
  },
  {
   "cell_type": "markdown",
   "id": "d3542dff",
   "metadata": {},
   "source": [
    "### 14. Find the average length of movies in each category."
   ]
  },
  {
   "cell_type": "code",
   "execution_count": 16,
   "id": "747424a7",
   "metadata": {},
   "outputs": [
    {
     "name": "stdout",
     "output_type": "stream",
     "text": [
      "Title: Sports  Average Length: 128.2027027027027\n",
      "Title: Games  Average Length: 127.8360655737705\n",
      "Title: Foreign  Average Length: 121.6986301369863\n",
      "Title: Drama  Average Length: 120.83870967741936\n",
      "Title: Comedy  Average Length: 115.82758620689656\n",
      "Title: Family  Average Length: 114.78260869565217\n",
      "Title: Music  Average Length: 113.6470588235294\n",
      "Title: Travel  Average Length: 113.3157894736842\n",
      "Title: Horror  Average Length: 112.48214285714286\n",
      "Title: Classics  Average Length: 111.66666666666667\n",
      "Title: Action  Average Length: 111.609375\n",
      "Title: New  Average Length: 111.12698412698413\n",
      "Title: Animation  Average Length: 111.01515151515152\n",
      "Title: Children  Average Length: 109.8\n",
      "Title: Documentary  Average Length: 108.75\n",
      "Title: Sci-Fi  Average Length: 108.19672131147541\n"
     ]
    }
   ],
   "source": [
    "result = films.aggregate([\n",
    "    {\"$match\": {\n",
    "        \"Length\": {\"$exists\": True, \"$ne\": None}  \n",
    "    }},\n",
    "    {\"$project\": {\n",
    "            \"Category\": 1,  \n",
    "            \"Length\": {\"$toInt\": \"$Length\"}  \n",
    "        }},\n",
    " {\n",
    "        \"$group\": {\n",
    "            \"_id\": \"$Category\",  \n",
    "            \"AverageLength\": {\"$avg\": \"$Length\"}  \n",
    "        }\n",
    "    },\n",
    "    {\n",
    "        \"$sort\": {\"AverageLength\": -1}  \n",
    "    }\n",
    "])\n",
    "\n",
    "\n",
    "for film in result:\n",
    "    print(f\"Title: {film['_id']}  Average Length: {film['AverageLength']}\")"
   ]
  },
  {
   "cell_type": "markdown",
   "id": "55d4ff0a",
   "metadata": {},
   "source": [
    "### 15. List the customers with at least 40 rentals.\n"
   ]
  },
  {
   "cell_type": "code",
   "execution_count": 17,
   "id": "31077d66",
   "metadata": {},
   "outputs": [
    {
     "name": "stdout",
     "output_type": "stream",
     "text": [
      "Customers: 236  Count: 42\n",
      "Customers: 197  Count: 40\n",
      "Customers: 526  Count: 45\n",
      "Customers: 469  Count: 40\n",
      "Customers: 148  Count: 46\n",
      "Customers: 144  Count: 42\n",
      "Customers: 75  Count: 41\n"
     ]
    }
   ],
   "source": [
    "result = customers.aggregate([\n",
    "    {\n",
    "        \"$unwind\": \"$Rentals\"  \n",
    "    },\n",
    "    {\n",
    "        \"$group\": {\n",
    "            \"_id\": \"$_id\",\n",
    "            \"rentalCount\": {\"$sum\": 1}  \n",
    "        }\n",
    "    },\n",
    "    {\n",
    "        \"$match\": {\n",
    "            \"rentalCount\": {\"$gte\": 40}  \n",
    "        }\n",
    "    },\n",
    "    {\n",
    "        \"$project\": {\n",
    "            \"_id\": 1,  \n",
    "            \"rentalCount\": 1  \n",
    "        }\n",
    "    }\n",
    "])\n",
    "\n",
    "for customer in result:\n",
    "    print(f\"Customers: {customer['_id']}  Count: {customer['rentalCount']}\")"
   ]
  },
  {
   "cell_type": "code",
   "execution_count": null,
   "id": "4526e3d6",
   "metadata": {},
   "outputs": [],
   "source": []
  }
 ],
 "metadata": {
  "kernelspec": {
   "display_name": "Python 3 (ipykernel)",
   "language": "python",
   "name": "python3"
  },
  "language_info": {
   "codemirror_mode": {
    "name": "ipython",
    "version": 3
   },
   "file_extension": ".py",
   "mimetype": "text/x-python",
   "name": "python",
   "nbconvert_exporter": "python",
   "pygments_lexer": "ipython3",
   "version": "3.11.5"
  }
 },
 "nbformat": 4,
 "nbformat_minor": 5
}
