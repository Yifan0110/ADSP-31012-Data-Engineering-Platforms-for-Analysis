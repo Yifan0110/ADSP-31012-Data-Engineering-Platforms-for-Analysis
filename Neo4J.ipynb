{
 "cells": [
  {
   "cell_type": "code",
   "execution_count": 1,
   "id": "b1044582",
   "metadata": {},
   "outputs": [],
   "source": [
    "from neo4j import GraphDatabase, basic_auth\n",
    "\n",
    "driver = GraphDatabase.driver(\"bolt://localhost:7687\", auth=basic_auth(\"neo4j\", \"12345678\"))\n",
    "session = driver.session()"
   ]
  },
  {
   "cell_type": "code",
   "execution_count": 2,
   "id": "e5bc8b96",
   "metadata": {},
   "outputs": [
    {
     "name": "stdout",
     "output_type": "stream",
     "text": [
      "Rob Reiner\n",
      "Nora Ephron\n"
     ]
    }
   ],
   "source": [
    "#Q1\n",
    "query1 = \"\"\"\n",
    "MATCH (p:Person)-[:PRODUCED]->(m:Movie)\n",
    "WHERE m.title = 'When Harry Met Sally'\n",
    "RETURN p.name AS producerNAME\n",
    "\"\"\"\n",
    "producer = driver.session().run(query1)\n",
    "for result in producer:\n",
    "    print(result['producerNAME'])"
   ]
  },
  {
   "cell_type": "code",
   "execution_count": 3,
   "id": "cca0624e",
   "metadata": {},
   "outputs": [
    {
     "name": "stdout",
     "output_type": "stream",
     "text": [
      "Director: Larry Wachowski, Movies Directed: 5\n",
      "Director: Andy Wachowski, Movies Directed: 5\n",
      "Director: Rob Reiner, Movies Directed: 3\n",
      "Director: Ron Howard, Movies Directed: 3\n"
     ]
    }
   ],
   "source": [
    "#Q2\n",
    "query2 = \"\"\"\n",
    "MATCH (d:Person)-[:DIRECTED]->(m:Movie)\n",
    "WITH d, COUNT(m) AS MoviesDirected\n",
    "WHERE MoviesDirected > 2\n",
    "RETURN d.name AS DirectorName, MoviesDirected\n",
    "ORDER BY MoviesDirected DESC\n",
    "\"\"\"\n",
    "\n",
    "count = driver.session().run(query2)\n",
    "for result in count:\n",
    "    print(f\"Director: {result['DirectorName']}, Movies Directed: {result['MoviesDirected']}\")"
   ]
  },
  {
   "cell_type": "code",
   "execution_count": 4,
   "id": "9ea6d9c7",
   "metadata": {},
   "outputs": [
    {
     "name": "stdout",
     "output_type": "stream",
     "text": [
      "Actor: Tom Hanks, Movies Acted: 12\n",
      "Actor: Keanu Reeves, Movies Acted: 7\n",
      "Actor: Hugo Weaving, Movies Acted: 5\n",
      "Actor: Jack Nicholson, Movies Acted: 5\n",
      "Actor: Meg Ryan, Movies Acted: 5\n"
     ]
    }
   ],
   "source": [
    "#Q3\n",
    "query3 = \"\"\"\n",
    "MATCH (a:Person)-[:ACTED_IN]->(m:Movie)\n",
    "WITH a, COUNT(m) AS NumberOfMovies\n",
    "WHERE NumberOfMovies >= 5\n",
    "RETURN a.name AS ActorName, NumberOfMovies\n",
    "ORDER BY NumberOfMovies DESC\n",
    "\"\"\"\n",
    "actors = driver.session().run(query3)\n",
    "for result in actors:\n",
    "    print(f\"Actor: {result['ActorName']}, Movies Acted: {result['NumberOfMovies']}\")"
   ]
  },
  {
   "cell_type": "code",
   "execution_count": 5,
   "id": "bfa2a5af",
   "metadata": {
    "scrolled": true
   },
   "outputs": [
    {
     "name": "stdout",
     "output_type": "stream",
     "text": [
      "Person: Cameron Crowe, Movie: Jerry Maguire\n",
      "Person: Nancy Meyers, Movie: Something's Gotta Give\n"
     ]
    }
   ],
   "source": [
    "#Q4\n",
    "query4 = \"\"\"\n",
    "MATCH (p:Person)-[:PRODUCED]->(m:Movie),\n",
    "      (p)-[:WROTE]->(m),\n",
    "      (p)-[:DIRECTED]->(m)\n",
    "RETURN p.name AS PersonName, m.title AS MovieTitle\n",
    "\"\"\"\n",
    "triple_roles = driver.session().run(query4)\n",
    "for result in triple_roles:\n",
    "    print(f\"Person: {result['PersonName']}, Movie: {result['MovieTitle']}\")"
   ]
  },
  {
   "cell_type": "code",
   "execution_count": 6,
   "id": "1b6b443a",
   "metadata": {},
   "outputs": [
    {
     "name": "stdout",
     "output_type": "stream",
     "text": [
      "Zach Grenier\n",
      "Danny DeVito\n",
      "John C. Reilly\n",
      "J.T. Walsh\n",
      "Keanu Reeves\n",
      "Diane Keaton\n",
      "James Marshall\n",
      "Kevin Pollak\n",
      "Aaron Sorkin\n",
      "Cuba Gooding Jr.\n",
      "Christopher Guest\n",
      "Noah Wyle\n",
      "Kiefer Sutherland\n",
      "Demi Moore\n",
      "Tom Cruise\n",
      "Robin Williams\n",
      "Max von Sydow\n",
      "Werner Herzog\n",
      "Annabella Sciorra\n",
      "Jerry O'Connell\n",
      "Jay Mohr\n",
      "Jonathan Lipnicki\n",
      "Renee Zellweger\n",
      "Kelly Preston\n",
      "Regina King\n",
      "Jack Nicholson\n",
      "Gene Hackman\n",
      "River Phoenix\n",
      "Wil Wheaton\n",
      "John Cusack\n",
      "Corey Feldman\n",
      "Marshall Bell\n",
      "Val Kilmer\n",
      "Tom Skerritt\n",
      "Kelly McGillis\n",
      "Anthony Edwards\n",
      "Oliver Platt\n",
      "Frank Langella\n",
      "Michael Sheen\n",
      "Ethan Hawke\n",
      "Rick Yune\n",
      "Christian Bale\n",
      "Clint Eastwood\n",
      "Richard Harris\n",
      "Brooke Langton\n",
      "Orlando Jones\n",
      "Ice-T\n",
      "Dina Meyer\n",
      "Takeshi Kitano\n",
      "Laurence Fishburne\n",
      "Carrie-Anne Moss\n",
      "Emil Eifrem\n",
      "Susan Sarandon\n",
      "John Goodman\n",
      "Christina Ricci\n",
      "Matthew Fox\n",
      "Rain\n",
      "Emile Hirsch\n",
      "Naomie Harris\n",
      "Al Pacino\n",
      "Carrie Fisher\n",
      "Billy Crystal\n",
      "Bruno Kirby\n",
      "Ben Miles\n"
     ]
    }
   ],
   "source": [
    "#Q5\n",
    "query5 = \"\"\"\n",
    "MATCH (hanks:Person {name: \"Tom Hanks\"})-[:ACTED_IN]->(m1:Movie)<-[:ACTED_IN]-(actor1:Person),\n",
    "      (actor1)-[:ACTED_IN]->(m2:Movie)<-[:ACTED_IN]-(actor2:Person),\n",
    "      (actor2)-[:ACTED_IN]->(m3:Movie)<-[:ACTED_IN]-(actor3:Person)\n",
    "WHERE NOT (hanks)-[:ACTED_IN]->()<-[:ACTED_IN]-(actor3) AND hanks <> actor3\n",
    "RETURN DISTINCT actor3.name AS actorName\n",
    "\n",
    "\"\"\"\n",
    "\n",
    "with driver.session() as session:\n",
    "    actors_3_degrees = session.run(query5)\n",
    "    for result in actors_3_degrees:\n",
    "        print(result[\"actorName\"])"
   ]
  },
  {
   "cell_type": "code",
   "execution_count": 7,
   "id": "f59bed15",
   "metadata": {},
   "outputs": [],
   "source": [
    "#Q6\n",
    "query6 = \"\"\"\n",
    "MATCH (p:Person {name: \"Lana Wachowski\"})\n",
    "SET p.name = \"Larry Wachowski\"\n",
    "RETURN p.name AS newName\n",
    "\"\"\"\n",
    "updated_name = driver.session().run(query6)"
   ]
  },
  {
   "cell_type": "code",
   "execution_count": 8,
   "id": "427b5981",
   "metadata": {},
   "outputs": [],
   "source": [
    "#Q7\n",
    "query7 = \"\"\"\n",
    "MATCH (movie:Movie)\n",
    "WHERE toLower(movie.summary) CONTAINS 'fun'\n",
    "CREATE (section:Section {name: 'Fun Movies'})\n",
    "MERGE (section)-[:INCLUDES]->(movie)\n",
    "RETURN section, movie\n",
    "\"\"\"\n",
    "fun_movies = driver.session().run(query7)"
   ]
  },
  {
   "cell_type": "code",
   "execution_count": 9,
   "id": "6ab37893",
   "metadata": {},
   "outputs": [
    {
     "name": "stdout",
     "output_type": "stream",
     "text": [
      "Release Year: 1975, Movie Count: 1\n",
      "Release Year: 1986, Movie Count: 2\n",
      "Release Year: 1990, Movie Count: 1\n",
      "Release Year: 1992, Movie Count: 4\n",
      "Release Year: 1993, Movie Count: 1\n",
      "Release Year: 1995, Movie Count: 2\n",
      "Release Year: 1996, Movie Count: 3\n",
      "Release Year: 1997, Movie Count: 2\n",
      "Release Year: 1998, Movie Count: 3\n",
      "Release Year: 1999, Movie Count: 4\n",
      "Release Year: 2000, Movie Count: 3\n",
      "Release Year: 2003, Movie Count: 3\n",
      "Release Year: 2004, Movie Count: 1\n",
      "Release Year: 2006, Movie Count: 3\n",
      "Release Year: 2007, Movie Count: 1\n",
      "Release Year: 2008, Movie Count: 2\n",
      "Release Year: 2009, Movie Count: 1\n",
      "Release Year: 2012, Movie Count: 1\n"
     ]
    }
   ],
   "source": [
    "# #Q8\n",
    "query8 = \"\"\"\n",
    "MATCH (m:Movie)\n",
    "RETURN m.released AS ReleaseYear, COUNT(*) AS MovieCount\n",
    "ORDER BY ReleaseYear\n",
    "\"\"\"\n",
    "movies_by_year = driver.session().run(query8)\n",
    "for result in movies_by_year:\n",
    "    print(f\"Release Year: {result['ReleaseYear']}, Movie Count: {result['MovieCount']}\")"
   ]
  },
  {
   "cell_type": "code",
   "execution_count": 10,
   "id": "61514cd0",
   "metadata": {},
   "outputs": [
    {
     "name": "stdout",
     "output_type": "stream",
     "text": [
      "Movie: Cloud Atlas, Rating: 95\n",
      "Movie: The Replacements, Rating: 100\n"
     ]
    }
   ],
   "source": [
    "#Q9\n",
    "query9 = \"\"\"\n",
    "MATCH (p:Person)-[r:REVIEWED]->(m:Movie)\n",
    "WHERE r.rating >= 90\n",
    "RETURN m.title AS Movie,r.rating as movieRating\n",
    "\"\"\"\n",
    "high_rating_movies = driver.session().run(query9)\n",
    "for result in high_rating_movies:\n",
    "    print(f\"Movie: {result['Movie']}, Rating: {result['movieRating']}\")"
   ]
  },
  {
   "cell_type": "code",
   "execution_count": 11,
   "id": "09f61b36",
   "metadata": {},
   "outputs": [
    {
     "name": "stdout",
     "output_type": "stream",
     "text": [
      "Producer: Joel Silver, Movies Produced: 6\n",
      "Producer: Andy Wachowski, Movies Produced: 2\n",
      "Producer: Larry Wachowski, Movies Produced: 2\n",
      "Producer: Cameron Crowe, Movies Produced: 1\n",
      "Producer: Rob Reiner, Movies Produced: 1\n",
      "Producer: Nora Ephron, Movies Produced: 1\n",
      "Producer: Nancy Meyers, Movies Produced: 1\n"
     ]
    }
   ],
   "source": [
    "#Q10\n",
    "query10 = \"\"\"\n",
    "MATCH (p:Person)-[:PRODUCED]->(m:Movie)\n",
    "WITH p.name AS Producer, COUNT(m) AS MovieCount\n",
    "RETURN Producer, MovieCount\n",
    "ORDER BY MovieCount DESC\n",
    "\"\"\"\n",
    "top_producers = driver.session().run(query10)\n",
    "for result in top_producers:\n",
    "    print(f\"Producer: {result['Producer']}, Movies Produced: {result['MovieCount']}\")"
   ]
  },
  {
   "cell_type": "code",
   "execution_count": null,
   "id": "26ded033",
   "metadata": {},
   "outputs": [],
   "source": []
  }
 ],
 "metadata": {
  "kernelspec": {
   "display_name": "Python 3 (ipykernel)",
   "language": "python",
   "name": "python3"
  },
  "language_info": {
   "codemirror_mode": {
    "name": "ipython",
    "version": 3
   },
   "file_extension": ".py",
   "mimetype": "text/x-python",
   "name": "python",
   "nbconvert_exporter": "python",
   "pygments_lexer": "ipython3",
   "version": "3.11.5"
  }
 },
 "nbformat": 4,
 "nbformat_minor": 5
}
